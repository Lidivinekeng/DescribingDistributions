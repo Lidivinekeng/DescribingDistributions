{
 "cells": [
  {
   "cell_type": "code",
   "execution_count": 1,
   "id": "961d4385",
   "metadata": {},
   "outputs": [],
   "source": [
    "import pandas as pd\n",
    "import numpy as np\n",
    "\n",
    "import matplotlib as mpl\n",
    "import matplotlib.pyplot as plt\n",
    "import seaborn as sns\n",
    "from scipy import stats\n",
    "from scipy.stats import normaltest\n",
    "\n",
    "\n",
    "sns.set_context('talk')\n",
    "mpl.rcParams['figure.figsize'] = [12,6]"
   ]
  },
  {
   "cell_type": "code",
   "execution_count": 2,
   "id": "ac2fd2ed",
   "metadata": {},
   "outputs": [],
   "source": [
    "\n",
    "pd.set_option('display.max_columns',100)"
   ]
  },
  {
   "cell_type": "code",
   "execution_count": 3,
   "id": "2d479f8b",
   "metadata": {
    "scrolled": true
   },
   "outputs": [
    {
     "name": "stdout",
     "output_type": "stream",
     "text": [
      "<class 'pandas.core.frame.DataFrame'>\n",
      "RangeIndex: 1000 entries, 0 to 999\n",
      "Data columns (total 32 columns):\n",
      " #   Column              Non-Null Count  Dtype  \n",
      "---  ------              --------------  -----  \n",
      " 0   State               995 non-null    object \n",
      " 1   Lat                 1000 non-null   float64\n",
      " 2   Lng                 1000 non-null   float64\n",
      " 3   Area                995 non-null    object \n",
      " 4   Children            993 non-null    float64\n",
      " 5   Age                 1000 non-null   int64  \n",
      " 6   Income              1000 non-null   float64\n",
      " 7   Marital             995 non-null    object \n",
      " 8   Gender              995 non-null    object \n",
      " 9   ReAdmis             1000 non-null   int64  \n",
      " 10  VitD_levels         1000 non-null   float64\n",
      " 11  Doc_visits          1000 non-null   int64  \n",
      " 12  Full_meals_eaten    1000 non-null   int64  \n",
      " 13  vitD_supp           1000 non-null   int64  \n",
      " 14  Soft_drink          1000 non-null   int64  \n",
      " 15  Initial_admin       995 non-null    object \n",
      " 16  HighBlood           1000 non-null   int64  \n",
      " 17  Stroke              1000 non-null   int64  \n",
      " 18  Complication_risk   995 non-null    object \n",
      " 19  Overweight          1000 non-null   int64  \n",
      " 20  Arthritis           994 non-null    float64\n",
      " 21  Diabetes            994 non-null    float64\n",
      " 22  Hyperlipidemia      998 non-null    float64\n",
      " 23  BackPain            992 non-null    float64\n",
      " 24  Anxiety             998 non-null    float64\n",
      " 25  Allergic_rhinitis   994 non-null    float64\n",
      " 26  Reflux_esophagitis  1000 non-null   int64  \n",
      " 27  Asthma              1000 non-null   int64  \n",
      " 28  Services            995 non-null    object \n",
      " 29  Initial_days        1000 non-null   float64\n",
      " 30  TotalCharge         1000 non-null   float64\n",
      " 31  Additional_charges  1000 non-null   float64\n",
      "dtypes: float64(14), int64(11), object(7)\n",
      "memory usage: 250.1+ KB\n"
     ]
    },
    {
     "data": {
      "text/html": [
       "<div>\n",
       "<style scoped>\n",
       "    .dataframe tbody tr th:only-of-type {\n",
       "        vertical-align: middle;\n",
       "    }\n",
       "\n",
       "    .dataframe tbody tr th {\n",
       "        vertical-align: top;\n",
       "    }\n",
       "\n",
       "    .dataframe thead th {\n",
       "        text-align: right;\n",
       "    }\n",
       "</style>\n",
       "<table border=\"1\" class=\"dataframe\">\n",
       "  <thead>\n",
       "    <tr style=\"text-align: right;\">\n",
       "      <th></th>\n",
       "      <th>State</th>\n",
       "      <th>Lat</th>\n",
       "      <th>Lng</th>\n",
       "      <th>Area</th>\n",
       "      <th>Children</th>\n",
       "      <th>Age</th>\n",
       "      <th>Income</th>\n",
       "      <th>Marital</th>\n",
       "      <th>Gender</th>\n",
       "      <th>ReAdmis</th>\n",
       "      <th>VitD_levels</th>\n",
       "      <th>Doc_visits</th>\n",
       "      <th>Full_meals_eaten</th>\n",
       "      <th>vitD_supp</th>\n",
       "      <th>Soft_drink</th>\n",
       "      <th>Initial_admin</th>\n",
       "      <th>HighBlood</th>\n",
       "      <th>Stroke</th>\n",
       "      <th>Complication_risk</th>\n",
       "      <th>Overweight</th>\n",
       "      <th>Arthritis</th>\n",
       "      <th>Diabetes</th>\n",
       "      <th>Hyperlipidemia</th>\n",
       "      <th>BackPain</th>\n",
       "      <th>Anxiety</th>\n",
       "      <th>Allergic_rhinitis</th>\n",
       "      <th>Reflux_esophagitis</th>\n",
       "      <th>Asthma</th>\n",
       "      <th>Services</th>\n",
       "      <th>Initial_days</th>\n",
       "      <th>TotalCharge</th>\n",
       "      <th>Additional_charges</th>\n",
       "    </tr>\n",
       "  </thead>\n",
       "  <tbody>\n",
       "    <tr>\n",
       "      <th>0</th>\n",
       "      <td>AL</td>\n",
       "      <td>34.34960</td>\n",
       "      <td>-86.72508</td>\n",
       "      <td>Suburban</td>\n",
       "      <td>1.0</td>\n",
       "      <td>53</td>\n",
       "      <td>86575.93</td>\n",
       "      <td>Divorced</td>\n",
       "      <td>Male</td>\n",
       "      <td>0</td>\n",
       "      <td>19.141466</td>\n",
       "      <td>6</td>\n",
       "      <td>0</td>\n",
       "      <td>0</td>\n",
       "      <td>0</td>\n",
       "      <td>Emergency Admission</td>\n",
       "      <td>1</td>\n",
       "      <td>0</td>\n",
       "      <td>Medium</td>\n",
       "      <td>0</td>\n",
       "      <td>1.0</td>\n",
       "      <td>1.0</td>\n",
       "      <td>0.0</td>\n",
       "      <td>1.0</td>\n",
       "      <td>1.0</td>\n",
       "      <td>1.0</td>\n",
       "      <td>0</td>\n",
       "      <td>1</td>\n",
       "      <td>Blood Work</td>\n",
       "      <td>10.585770</td>\n",
       "      <td>3726.702860</td>\n",
       "      <td>17939.403420</td>\n",
       "    </tr>\n",
       "    <tr>\n",
       "      <th>1</th>\n",
       "      <td>FL</td>\n",
       "      <td>30.84513</td>\n",
       "      <td>-85.22907</td>\n",
       "      <td>Urban</td>\n",
       "      <td>3.0</td>\n",
       "      <td>51</td>\n",
       "      <td>46805.99</td>\n",
       "      <td>Married</td>\n",
       "      <td>Female</td>\n",
       "      <td>0</td>\n",
       "      <td>18.940352</td>\n",
       "      <td>4</td>\n",
       "      <td>2</td>\n",
       "      <td>1</td>\n",
       "      <td>0</td>\n",
       "      <td>Emergency Admission</td>\n",
       "      <td>1</td>\n",
       "      <td>0</td>\n",
       "      <td>High</td>\n",
       "      <td>1</td>\n",
       "      <td>0.0</td>\n",
       "      <td>0.0</td>\n",
       "      <td>0.0</td>\n",
       "      <td>0.0</td>\n",
       "      <td>0.0</td>\n",
       "      <td>0.0</td>\n",
       "      <td>1</td>\n",
       "      <td>0</td>\n",
       "      <td>Intravenous</td>\n",
       "      <td>15.129562</td>\n",
       "      <td>4193.190458</td>\n",
       "      <td>17612.998120</td>\n",
       "    </tr>\n",
       "    <tr>\n",
       "      <th>2</th>\n",
       "      <td>SD</td>\n",
       "      <td>43.54321</td>\n",
       "      <td>-96.63772</td>\n",
       "      <td>Suburban</td>\n",
       "      <td>3.0</td>\n",
       "      <td>53</td>\n",
       "      <td>14370.14</td>\n",
       "      <td>Widowed</td>\n",
       "      <td>Female</td>\n",
       "      <td>0</td>\n",
       "      <td>18.057507</td>\n",
       "      <td>4</td>\n",
       "      <td>1</td>\n",
       "      <td>0</td>\n",
       "      <td>0</td>\n",
       "      <td>Elective Admission</td>\n",
       "      <td>1</td>\n",
       "      <td>0</td>\n",
       "      <td>Medium</td>\n",
       "      <td>1</td>\n",
       "      <td>0.0</td>\n",
       "      <td>1.0</td>\n",
       "      <td>0.0</td>\n",
       "      <td>0.0</td>\n",
       "      <td>0.0</td>\n",
       "      <td>0.0</td>\n",
       "      <td>0</td>\n",
       "      <td>0</td>\n",
       "      <td>Blood Work</td>\n",
       "      <td>4.772177</td>\n",
       "      <td>2434.234222</td>\n",
       "      <td>17505.192460</td>\n",
       "    </tr>\n",
       "    <tr>\n",
       "      <th>3</th>\n",
       "      <td>MN</td>\n",
       "      <td>43.89744</td>\n",
       "      <td>-93.51479</td>\n",
       "      <td>Suburban</td>\n",
       "      <td>0.0</td>\n",
       "      <td>78</td>\n",
       "      <td>39741.49</td>\n",
       "      <td>Married</td>\n",
       "      <td>Male</td>\n",
       "      <td>0</td>\n",
       "      <td>16.576858</td>\n",
       "      <td>4</td>\n",
       "      <td>1</td>\n",
       "      <td>0</td>\n",
       "      <td>0</td>\n",
       "      <td>Elective Admission</td>\n",
       "      <td>0</td>\n",
       "      <td>1</td>\n",
       "      <td>Medium</td>\n",
       "      <td>0</td>\n",
       "      <td>1.0</td>\n",
       "      <td>0.0</td>\n",
       "      <td>0.0</td>\n",
       "      <td>0.0</td>\n",
       "      <td>0.0</td>\n",
       "      <td>0.0</td>\n",
       "      <td>1</td>\n",
       "      <td>1</td>\n",
       "      <td>Blood Work</td>\n",
       "      <td>1.714879</td>\n",
       "      <td>2127.830423</td>\n",
       "      <td>12993.437350</td>\n",
       "    </tr>\n",
       "    <tr>\n",
       "      <th>4</th>\n",
       "      <td>VA</td>\n",
       "      <td>37.59894</td>\n",
       "      <td>-76.88958</td>\n",
       "      <td>Rural</td>\n",
       "      <td>1.0</td>\n",
       "      <td>22</td>\n",
       "      <td>1209.56</td>\n",
       "      <td>Widowed</td>\n",
       "      <td>Female</td>\n",
       "      <td>0</td>\n",
       "      <td>17.439069</td>\n",
       "      <td>5</td>\n",
       "      <td>0</td>\n",
       "      <td>2</td>\n",
       "      <td>1</td>\n",
       "      <td>Elective Admission</td>\n",
       "      <td>0</td>\n",
       "      <td>0</td>\n",
       "      <td>Low</td>\n",
       "      <td>0</td>\n",
       "      <td>0.0</td>\n",
       "      <td>NaN</td>\n",
       "      <td>1.0</td>\n",
       "      <td>0.0</td>\n",
       "      <td>0.0</td>\n",
       "      <td>1.0</td>\n",
       "      <td>0</td>\n",
       "      <td>0</td>\n",
       "      <td>CT Scan</td>\n",
       "      <td>1.254807</td>\n",
       "      <td>2113.073274</td>\n",
       "      <td>3716.525786</td>\n",
       "    </tr>\n",
       "  </tbody>\n",
       "</table>\n",
       "</div>"
      ],
      "text/plain": [
       "  State       Lat       Lng      Area  Children  Age    Income   Marital  \\\n",
       "0    AL  34.34960 -86.72508  Suburban       1.0   53  86575.93  Divorced   \n",
       "1    FL  30.84513 -85.22907     Urban       3.0   51  46805.99   Married   \n",
       "2    SD  43.54321 -96.63772  Suburban       3.0   53  14370.14   Widowed   \n",
       "3    MN  43.89744 -93.51479  Suburban       0.0   78  39741.49   Married   \n",
       "4    VA  37.59894 -76.88958     Rural       1.0   22   1209.56   Widowed   \n",
       "\n",
       "   Gender  ReAdmis  VitD_levels  Doc_visits  Full_meals_eaten  vitD_supp  \\\n",
       "0    Male        0    19.141466           6                 0          0   \n",
       "1  Female        0    18.940352           4                 2          1   \n",
       "2  Female        0    18.057507           4                 1          0   \n",
       "3    Male        0    16.576858           4                 1          0   \n",
       "4  Female        0    17.439069           5                 0          2   \n",
       "\n",
       "   Soft_drink        Initial_admin  HighBlood  Stroke Complication_risk  \\\n",
       "0           0  Emergency Admission          1       0            Medium   \n",
       "1           0  Emergency Admission          1       0              High   \n",
       "2           0   Elective Admission          1       0            Medium   \n",
       "3           0   Elective Admission          0       1            Medium   \n",
       "4           1   Elective Admission          0       0               Low   \n",
       "\n",
       "   Overweight  Arthritis  Diabetes  Hyperlipidemia  BackPain  Anxiety  \\\n",
       "0           0        1.0       1.0             0.0       1.0      1.0   \n",
       "1           1        0.0       0.0             0.0       0.0      0.0   \n",
       "2           1        0.0       1.0             0.0       0.0      0.0   \n",
       "3           0        1.0       0.0             0.0       0.0      0.0   \n",
       "4           0        0.0       NaN             1.0       0.0      0.0   \n",
       "\n",
       "   Allergic_rhinitis  Reflux_esophagitis  Asthma     Services  Initial_days  \\\n",
       "0                1.0                   0       1   Blood Work     10.585770   \n",
       "1                0.0                   1       0  Intravenous     15.129562   \n",
       "2                0.0                   0       0   Blood Work      4.772177   \n",
       "3                0.0                   1       1   Blood Work      1.714879   \n",
       "4                1.0                   0       0      CT Scan      1.254807   \n",
       "\n",
       "   TotalCharge  Additional_charges  \n",
       "0  3726.702860        17939.403420  \n",
       "1  4193.190458        17612.998120  \n",
       "2  2434.234222        17505.192460  \n",
       "3  2127.830423        12993.437350  \n",
       "4  2113.073274         3716.525786  "
      ]
     },
     "execution_count": 3,
     "metadata": {},
     "output_type": "execute_result"
    }
   ],
   "source": [
    "## read in the Data/student/student-mat.csv (it uses \";\" as the sep)\n",
    "df = pd.read_csv(r'C:\\Users\\lidiv\\core\\Describing Distributions\\DescribingDistributions\\data (4).csv')\n",
    "\n",
    "# display info and .head\n",
    "df.info()\n",
    "df.head()"
   ]
  },
  {
   "cell_type": "code",
   "execution_count": 4,
   "id": "cc39a9f5",
   "metadata": {},
   "outputs": [],
   "source": [
    "# Set the significance level (alpha)\n",
    "alpha = 0.05"
   ]
  },
  {
   "cell_type": "code",
   "execution_count": 5,
   "id": "28cf9e99",
   "metadata": {},
   "outputs": [],
   "source": [
    "# Define the features to analyze\n",
    "features_to_analyze = ['VitD_levels', 'Doc_visits', 'TotalCharge']"
   ]
  },
  {
   "cell_type": "code",
   "execution_count": 6,
   "id": "a2480115",
   "metadata": {},
   "outputs": [],
   "source": [
    "\n",
    "# Loop through the features\n",
    "for feature in features_to_analyze:\n",
    "    # Extract the feature column from the DataFrame\n",
    "    data = df[feature]\n",
    "\n",
    "    # Perform the normality test (D'Agostino and Pearson's test)\n",
    "    _, p_value = normaltest(data)"
   ]
  },
  {
   "cell_type": "code",
   "execution_count": 7,
   "id": "65571d2c",
   "metadata": {},
   "outputs": [
    {
     "data": {
      "text/plain": [
       "<Axes: xlabel='TotalCharge', ylabel='Count'>"
      ]
     },
     "execution_count": 7,
     "metadata": {},
     "output_type": "execute_result"
    },
    {
     "data": {
      "image/png": "[encoded data removed]",
      "text/plain": [
       "<Figure size 800x600 with 1 Axes>"
      ]
     },
     "metadata": {},
     "output_type": "display_data"
    }
   ],
   "source": [
    "    # Create a new figure for each feature\n",
    "    plt.figure(figsize=(8, 6))\n",
    "     # Extract the feature column from the DataFrame\n",
    "    data = df[feature]\n",
    "        # Plot a histogram with a KDE\n",
    "    sns.histplot(data, kde=True, color='blue')"
   ]
  },
  {
   "cell_type": "code",
   "execution_count": 8,
   "id": "3f74ea19",
   "metadata": {},
   "outputs": [],
   "source": [
    "    # Calculate the mean and median\n",
    "    mean_value = data.mean()\n",
    "    median_value = data.median()\n"
   ]
  },
  {
   "cell_type": "code",
   "execution_count": 9,
   "id": "8ab2915b",
   "metadata": {},
   "outputs": [
    {
     "data": {
      "text/plain": [
       "3240.9716133389998"
      ]
     },
     "execution_count": 9,
     "metadata": {},
     "output_type": "execute_result"
    }
   ],
   "source": [
    "mean_value"
   ]
  },
  {
   "cell_type": "code",
   "execution_count": 10,
   "id": "4e185932",
   "metadata": {},
   "outputs": [
    {
     "data": {
      "text/plain": [
       "3164.6792455"
      ]
     },
     "execution_count": 10,
     "metadata": {},
     "output_type": "execute_result"
    }
   ],
   "source": [
    " median_value"
   ]
  },
  {
   "cell_type": "code",
   "execution_count": 11,
   "id": "faf66099",
   "metadata": {},
   "outputs": [],
   "source": [
    "    # Calculate standard deviation\n",
    "    std_value = data.std()"
   ]
  },
  {
   "cell_type": "code",
   "execution_count": 12,
   "id": "15e0a43b",
   "metadata": {},
   "outputs": [
    {
     "data": {
      "image/png": "[encoded data removed]",
      "text/plain": [
       "<Figure size 800x600 with 1 Axes>"
      ]
     },
     "metadata": {},
     "output_type": "display_data"
    }
   ],
   "source": [
    "   \n",
    "    # Create a new figure for each feature\n",
    "    plt.figure(figsize=(8, 6))\n",
    "\n",
    "    # Plot a histogram with a KDE\n",
    "    sns.histplot(data, kde=True, color='blue')\n",
    "\n",
    "    # Calculate the mean and median\n",
    "    mean_value = data.mean()\n",
    "    median_value = data.median()\n",
    "\n",
    "    # Calculate standard deviation\n",
    "    std_value = data.std()\n",
    "\n",
    "    # Add lines for mean and median\n",
    "    plt.axvline(mean_value, color='red', linestyle='dashed', linewidth=2, label='Mean')\n",
    "    plt.axvline(median_value, color='green', linestyle='dashed', linewidth=2, label='Median')\n",
    "\n",
    "    # Add lines for +1 std and -1 std from the mean\n",
    "    plt.axvline(mean_value + std_value, color='black', linestyle='dashed', linewidth=2, label='+1 Std')\n",
    "    plt.axvline(mean_value - std_value, color='black', linestyle='dashed', linewidth=2, label='-1 Std')\n",
    "\n",
    "    # Highlight the range between +1 and -1 std\n",
    "    plt.axvspan(mean_value - std_value, mean_value + std_value, color='yellow', alpha=0.3, label='+/- 1 Std Range')\n",
    "\n",
    "    # Set labels and legend\n",
    "    plt.xlabel(feature)\n",
    "    plt.ylabel('Frequency')\n",
    "    plt.legend();"
   ]
  },
  {
   "cell_type": "code",
   "execution_count": 13,
   "id": "bec95a0a",
   "metadata": {},
   "outputs": [],
   "source": [
    "  # Determine if it is Discrete or Continuous based on normality test\n",
    "if p_value < alpha:\n",
    "    feature_type = 'Discrete'\n",
    "else:\n",
    "    feature_type = 'Continuous'"
   ]
  },
  {
   "cell_type": "code",
   "execution_count": 14,
   "id": "36bfb74d",
   "metadata": {},
   "outputs": [
    {
     "data": {
      "text/plain": [
       "'Discrete'"
      ]
     },
     "execution_count": 14,
     "metadata": {},
     "output_type": "execute_result"
    }
   ],
   "source": [
    " feature_type"
   ]
  },
  {
   "cell_type": "code",
   "execution_count": 15,
   "id": "d7a6d48d",
   "metadata": {},
   "outputs": [],
   "source": [
    " # Check for skew\n",
    "if mean_value > median_value:\n",
    "        skew_direction = 'positive (right-skewed)'\n",
    "elif mean_value < median_value:\n",
    "        skew_direction = 'negative (left-skewed)'\n",
    "else:\n",
    "        skew_direction = 'no skew'\n"
   ]
  },
  {
   "cell_type": "code",
   "execution_count": 16,
   "id": "63dd78cb",
   "metadata": {},
   "outputs": [
    {
     "data": {
      "text/plain": [
       "'positive (right-skewed)'"
      ]
     },
     "execution_count": 16,
     "metadata": {},
     "output_type": "execute_result"
    }
   ],
   "source": [
    "skew_direction"
   ]
  },
  {
   "cell_type": "code",
   "execution_count": 17,
   "id": "5b30974b",
   "metadata": {},
   "outputs": [],
   "source": [
    "  # Check kurtosis\n",
    "kurtosis_type = 'Mesokurtic'  # By default, assuming normal distribution\n",
    "\n",
    "if std_value < 1.0:\n",
    "        kurtosis_type = 'Leptokurtic'\n",
    "elif std_value > 1.0:\n",
    "        kurtosis_type = 'Platykurtic'"
   ]
  },
  {
   "cell_type": "code",
   "execution_count": 18,
   "id": "9e5b9b42",
   "metadata": {},
   "outputs": [
    {
     "data": {
      "text/plain": [
       "'Platykurtic'"
      ]
     },
     "execution_count": 18,
     "metadata": {},
     "output_type": "execute_result"
    }
   ],
   "source": [
    "  kurtosis_type"
   ]
  },
  {
   "cell_type": "code",
   "execution_count": 19,
   "id": "091278ad",
   "metadata": {},
   "outputs": [
    {
     "name": "stdout",
     "output_type": "stream",
     "text": [
      "Feature: TotalCharge\n",
      "Type: Discrete\n",
      "Skewness: positive (right-skewed)\n",
      "Kurtosis: Platykurtic\n",
      "p-value (Normality Test): 3.5617376548081327e-12\n",
      "---\n"
     ]
    }
   ],
   "source": [
    "\n",
    "    print(f'Feature: {feature}')\n",
    "    print(f'Type: {feature_type}')\n",
    "    print(f'Skewness: {skew_direction}')\n",
    "    print(f'Kurtosis: {kurtosis_type}')\n",
    "    print(f'p-value (Normality Test): {p_value}')\n",
    "    print('---')"
   ]
  },
  {
   "cell_type": "code",
   "execution_count": null,
   "id": "97aebb5e",
   "metadata": {},
   "outputs": [],
   "source": []
  }
 ],
 "metadata": {
  "kernelspec": {
   "display_name": "Python (dojo-env)",
   "language": "python",
   "name": "dojo-env"
  },
  "language_info": {
   "codemirror_mode": {
    "name": "ipython",
    "version": 3
   },
   "file_extension": ".py",
   "mimetype": "text/x-python",
   "name": "python",
   "nbconvert_exporter": "python",
   "pygments_lexer": "ipython3",
   "version": "3.11.4"
  },
  "toc": {
   "base_numbering": 1,
   "nav_menu": {},
   "number_sections": false,
   "sideBar": true,
   "skip_h1_title": false,
   "title_cell": "Table of Contents",
   "title_sidebar": "Contents",
   "toc_cell": false,
   "toc_position": {},
   "toc_section_display": true,
   "toc_window_display": false
  }
 },
 "nbformat": 4,
 "nbformat_minor": 5
}
